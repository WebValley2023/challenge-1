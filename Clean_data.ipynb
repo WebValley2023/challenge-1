{
 "cells": [
  {
   "cell_type": "code",
   "execution_count": null,
   "metadata": {},
   "outputs": [],
   "source": [
    "import pandas as pd\n",
    "import numpy as np\n",
    "from sklearn.linear_model import LinearRegression\n",
    "from sklearn.model_selection import train_test_split\n",
    "import matplotlib.pyplot as plt \n",
    "from itertools import combinations\n",
    "from scipy.stats import linregress\n",
    "import datetime\n",
    "datetime.datetime.strptime\n"
   ]
  },
  {
   "cell_type": "code",
   "execution_count": null,
   "metadata": {},
   "outputs": [],
   "source": [
    "lista_file = [\n",
    "    \"APPA_2_Parco S. Chiara.csv\",\n",
    "    \"APPA_4_Via Bolzano.csv\",\n",
    "    \"APPA_6_Rovereto.csv\",\n",
    "    \"APPA_8_Borgo Valsugana.csv\",\n",
    "    \"APPA_9_Riva del Garda.csv\",\n",
    "    \"APPA_15_Monte Gaza.csv\",\n",
    "    \"APPA_22_Piana Rotaliana.csv\",\n",
    "    \"APPA_23_A22 (Avio).csv\",\n",
    "]\n"
   ]
  },
  {
   "cell_type": "code",
   "execution_count": null,
   "metadata": {},
   "outputs": [],
   "source": [
    "#Before\n",
    "for file in lista_file:\n",
    "    Appa=pd.read_csv(\n",
    "        \"Trento\\\\DataSet_APPA_TRENTO\\\\DataSet_APPA_(2013-2023)\\\\\"+file,\n",
    "        na_values=\"n.d.\",\n",
    "    )\n",
    "\n",
    "    print( str(file)+\" -> \"+str(len(Appa)))\n",
    "\n",
    "\n",
    "\n"
   ]
  },
  {
   "cell_type": "code",
   "execution_count": null,
   "metadata": {},
   "outputs": [],
   "source": [
    "#After\n",
    "for file in lista_file:\n",
    "    Appa=pd.read_csv(\n",
    "        \"Trento\\\\DataSet_APPA_TRENTO\\\\DataSet_APPA_(2013-2023)\\\\\"+file,\n",
    "        na_values=\"n.d.\",\n",
    "    )\n",
    "\n",
    "    Appa=Appa.drop_duplicates(subset=\"Data\")\n",
    "\n",
    "    Appa.to_csv(\"Trento\\\\DataSet_APPA_TRENTO\\\\DataSet_APPA_(2013-2023)\\\\\"+file)\n",
    "    print( str(file)+\" -> \"+str(len(Appa)))\n",
    "\n"
   ]
  },
  {
   "cell_type": "code",
   "execution_count": null,
   "metadata": {},
   "outputs": [],
   "source": [
    "#Sort by Date\n",
    "\n",
    "for file in lista_file:\n",
    "    Appa=pd.read_csv(\n",
    "        \"Trento\\\\DataSet_APPA_TRENTO\\\\DataSet_APPA_(2020(March) - 2022 (June))\\\\\"+file,\n",
    "        na_values=\"n.d.\",\n",
    "    )\n",
    "\n",
    "    Appa[\"Data\"] = pd.to_datetime(Appa[\"Data\"])  # Convert \"Data\" column to DateTimeIndex\n",
    "\n",
    "    Appa.sort_values(by=\"Data\", inplace=True)\n",
    "\n",
    "    Appa.to_csv(\"Trento\\\\DataSet_APPA_TRENTO\\\\DataSet_APPA_(2020(March) - 2022 (June))\\\\\"+file)"
   ]
  },
  {
   "cell_type": "code",
   "execution_count": null,
   "metadata": {},
   "outputs": [],
   "source": [
    "#Remove Unnamedfor file in lista_file:\n",
    "for file in lista_file:\n",
    "    Appa=pd.read_csv(\n",
    "        \"Trento\\\\DataSet_APPA_TRENTO\\\\DataSet_APPA_(2020(March) - 2022 (June))\\\\\"+file,\n",
    "        na_values=\"n.d.\",\n",
    "    )\n",
    "    try:\n",
    "        Appa=Appa.drop([\"Unnamed: 0\"],axis=1)\n",
    "    except:\n",
    "        print(\"Unnamed: 0  non presente\")\n",
    "    try:\n",
    "        Appa=Appa.drop([\"Unnamed: 0.1\"],axis=1)\n",
    "    except:\n",
    "        print(\"Unnamed: 0.1  non presente\")\n",
    "    try:\n",
    "        Appa=Appa.drop([\"Unnamed: 0.2\"],axis=1)\n",
    "    except:\n",
    "        print(\"Unnamed: 0.2  non presente\")\n",
    "    try:\n",
    "        Appa=Appa.drop([\"Unnamed: 0.3\"],axis=1)\n",
    "    except:\n",
    "        print(\"Unnamed: 0.3  non presente\")\n",
    "    try:\n",
    "        Appa=Appa.drop([\"Unnamed: 0.4\"],axis=1)\n",
    "    except:\n",
    "        print(\"Unnamed: 0.3  non presente\")\n",
    "    \n",
    "    \n",
    "    Appa.to_csv(\"Trento\\\\DataSet_APPA_TRENTO\\\\DataSet_APPA_(2020(March) - 2022 (June))\\\\\"+file)\n",
    "\n",
    "    \n",
    "\n",
    "    "
   ]
  },
  {
   "cell_type": "code",
   "execution_count": 31,
   "metadata": {},
   "outputs": [
    {
     "name": "stdout",
     "output_type": "stream",
     "text": [
      "Riva-> 36793\n",
      "Riva-> 36793\n",
      "Unnamed: 0  non presente\n",
      "Unnamed: 0.1  non presente\n",
      "Unnamed: 0.2  non presente\n",
      "Unnamed: 0.3  non presente\n",
      "Unnamed: 0.3  non presente\n"
     ]
    }
   ],
   "source": [
    "#RIVA\n",
    "\n",
    "Riva=pd.read_csv(\n",
    "    \"Riva\\\\lomb_tot.csv\",\n",
    "    na_values=\"n.d.\",\n",
    ")\n",
    "\n",
    "print(\"Riva-> \"+str(len(Riva)))\n",
    "\n",
    "Riva[\"Data\"] = pd.to_datetime(Riva[\"Data\"])  # Convert \"Data\" column to DateTimeIndex\n",
    "\n",
    "Riva.sort_values(by=\"Data\", inplace=True)\n",
    "\n",
    "Riva.drop_duplicates(subset=\"Data\")\n",
    "print(\"Riva-> \"+str(len(Riva)))\n",
    "\n",
    "try:\n",
    "    Appa=Appa.drop([\"Unnamed: 0\"],axis=1)\n",
    "except:\n",
    "    print(\"Unnamed: 0  non presente\")\n",
    "try:\n",
    "    Appa=Appa.drop([\"Unnamed: 0.1\"],axis=1)\n",
    "except:\n",
    "    print(\"Unnamed: 0.1  non presente\")\n",
    "try:\n",
    "    Appa=Appa.drop([\"Unnamed: 0.2\"],axis=1)\n",
    "except:\n",
    "    print(\"Unnamed: 0.2  non presente\")\n",
    "try:\n",
    "    Appa=Appa.drop([\"Unnamed: 0.3\"],axis=1)\n",
    "except:\n",
    "    print(\"Unnamed: 0.3  non presente\")\n",
    "try:\n",
    "    Appa=Appa.drop([\"Unnamed: 0.4\"],axis=1)\n",
    "except:\n",
    "    print(\"Unnamed: 0.3  non presente\")\n",
    "\n",
    "\n",
    "Riva.to_csv(\"Riva\\\\lomb_tot.csv\")\n",
    "\n",
    "\n"
   ]
  },
  {
   "cell_type": "code",
   "execution_count": null,
   "metadata": {},
   "outputs": [],
   "source": []
  }
 ],
 "metadata": {
  "kernelspec": {
   "display_name": "Python 3",
   "language": "python",
   "name": "python3"
  },
  "language_info": {
   "codemirror_mode": {
    "name": "ipython",
    "version": 3
   },
   "file_extension": ".py",
   "mimetype": "text/x-python",
   "name": "python",
   "nbconvert_exporter": "python",
   "pygments_lexer": "ipython3",
   "version": "3.11.4"
  },
  "orig_nbformat": 4
 },
 "nbformat": 4,
 "nbformat_minor": 2
}
