{
 "cells": [
  {
   "cell_type": "code",
   "execution_count": 1,
   "metadata": {},
   "outputs": [],
   "source": [
    "import pandas as pd\n",
    "import numpy as np\n",
    "from sklearn.linear_model import LinearRegression\n",
    "from sklearn.model_selection import train_test_split\n",
    "import matplotlib.pyplot as plt \n",
    "from itertools import combinations\n",
    "from scipy.stats import linregress\n",
    "import datetime\n",
    "datetime.datetime.strptime\n",
    "import seaborn as sns\n",
    "\n",
    "\n",
    "#python -m pip install numpy scikit-learn statsmodels"
   ]
  },
  {
   "cell_type": "code",
   "execution_count": 2,
   "metadata": {},
   "outputs": [],
   "source": [
    "lista_file = [\n",
    "    #\"APPA_2_Parco S. Chiara.csv\",\n",
    "    \"APPA_6_Rovereto.csv\",\n",
    "    \"APPA_8_Borgo Valsugana.csv\",\n",
    "    \"APPA_9_Riva del Garda.csv\",\n",
    "    \"APPA_15_Monte Gaza.csv\",\n",
    "    \"APPA_22_Piana Rotaliana.csv\",\n",
    "]\n",
    "\n",
    "start_date=\"2020/01/01\"\n",
    "end_date=\"2023/01/01\"\n",
    "\n",
    "\n"
   ]
  },
  {
   "cell_type": "code",
   "execution_count": 3,
   "metadata": {},
   "outputs": [],
   "source": [
    "DF_Ozone=pd.DataFrame()\n",
    "df_SChiara = pd.read_csv(\n",
    "\"Trento\\\\DataSet_APPA_TRENTO\\\\DataSet_APPA_(2013-2023)\\\\APPA_2_Parco S. Chiara.csv\",\n",
    "na_values=\"n.d.\",\n",
    ")\n",
    "df_SChiara [\"Data\"]=pd.to_datetime(df_SChiara [\"Data\"])\n",
    "df_SChiara .sort_values(by=\"Data\", inplace=True)\n",
    "df_SChiara .set_index('Data', inplace=True)\n",
    "df_SChiara= df_SChiara.loc[start_date:end_date,:]\n",
    "\n",
    "#df_SChiara[(df_SChiara[\"Data\"]<pd.Timestamp(2023,1,1)) & (df_SChiara[\"Data\"]>pd.Timestamp(2020,1,1))]\n",
    "df_SChiara=df_SChiara[\"Ozone\"]\n",
    "\n",
    "DF_Ozone[\"APPA_2_Parco S. Chiara.csv\"]=df_SChiara\n",
    "#print(df_SChiara)\n",
    "\n",
    "\n",
    "\n"
   ]
  },
  {
   "cell_type": "code",
   "execution_count": 4,
   "metadata": {},
   "outputs": [
    {
     "ename": "MemoryError",
     "evalue": "Unable to allocate 1.64 GiB for an array with shape (1, 219604213) and data type datetime64[ns]",
     "output_type": "error",
     "traceback": [
      "\u001b[1;31m---------------------------------------------------------------------------\u001b[0m",
      "\u001b[1;31mMemoryError\u001b[0m                               Traceback (most recent call last)",
      "Cell \u001b[1;32mIn[4], line 17\u001b[0m\n\u001b[0;32m     14\u001b[0m     Appa\u001b[39m.\u001b[39mreset_index(inplace \u001b[39m=\u001b[39m \u001b[39mTrue\u001b[39;00m)\n\u001b[0;32m     15\u001b[0m     \u001b[39m#print(Appa)\u001b[39;00m\n\u001b[0;32m     16\u001b[0m     \u001b[39m#print(DF_Ozone)\u001b[39;00m\n\u001b[1;32m---> 17\u001b[0m     DF_Ozone\u001b[39m=\u001b[39mDF_Ozone\u001b[39m.\u001b[39;49mreset_index()\u001b[39m.\u001b[39;49mmerge(Appa[[\u001b[39m\"\u001b[39;49m\u001b[39mData\u001b[39;49m\u001b[39m\"\u001b[39;49m,newName]],how\u001b[39m=\u001b[39;49m\u001b[39m\"\u001b[39;49m\u001b[39mleft\u001b[39;49m\u001b[39m\"\u001b[39;49m,on\u001b[39m=\u001b[39;49m\u001b[39m\"\u001b[39;49m\u001b[39mData\u001b[39;49m\u001b[39m\"\u001b[39;49m)\u001b[39m.\u001b[39mset_index(\u001b[39m\"\u001b[39m\u001b[39mData\u001b[39m\u001b[39m\"\u001b[39m)\n\u001b[0;32m     18\u001b[0m     \u001b[39m#Appa[(Appa[\"Data\"]<pd.Timestamp(2023,1,1)) & (Appa[\"Data\"]>pd.Timestamp(2020,1,1))]\u001b[39;00m\n\u001b[0;32m     19\u001b[0m     \u001b[39m#Appa= Appa.filter[start_date:end_date,:]\u001b[39;00m\n\u001b[0;32m     20\u001b[0m     \n\u001b[1;32m   (...)\u001b[0m\n\u001b[0;32m     25\u001b[0m     \u001b[39m#DF_Ozone[file]=Appa\u001b[39;00m\n\u001b[0;32m     26\u001b[0m     \u001b[39m#print(Appa_Ozone)\u001b[39;00m\n\u001b[0;32m     28\u001b[0m DF_Ozone\n",
      "File \u001b[1;32mc:\\Users\\rajaf\\AppData\\Local\\Programs\\Python\\Python311\\Lib\\site-packages\\pandas\\core\\frame.py:9843\u001b[0m, in \u001b[0;36mDataFrame.merge\u001b[1;34m(self, right, how, on, left_on, right_on, left_index, right_index, sort, suffixes, copy, indicator, validate)\u001b[0m\n\u001b[0;32m   9824\u001b[0m \u001b[39m@Substitution\u001b[39m(\u001b[39m\"\u001b[39m\u001b[39m\"\u001b[39m)\n\u001b[0;32m   9825\u001b[0m \u001b[39m@Appender\u001b[39m(_merge_doc, indents\u001b[39m=\u001b[39m\u001b[39m2\u001b[39m)\n\u001b[0;32m   9826\u001b[0m \u001b[39mdef\u001b[39;00m \u001b[39mmerge\u001b[39m(\n\u001b[1;32m   (...)\u001b[0m\n\u001b[0;32m   9839\u001b[0m     validate: \u001b[39mstr\u001b[39m \u001b[39m|\u001b[39m \u001b[39mNone\u001b[39;00m \u001b[39m=\u001b[39m \u001b[39mNone\u001b[39;00m,\n\u001b[0;32m   9840\u001b[0m ) \u001b[39m-\u001b[39m\u001b[39m>\u001b[39m DataFrame:\n\u001b[0;32m   9841\u001b[0m     \u001b[39mfrom\u001b[39;00m \u001b[39mpandas\u001b[39;00m\u001b[39m.\u001b[39;00m\u001b[39mcore\u001b[39;00m\u001b[39m.\u001b[39;00m\u001b[39mreshape\u001b[39;00m\u001b[39m.\u001b[39;00m\u001b[39mmerge\u001b[39;00m \u001b[39mimport\u001b[39;00m merge\n\u001b[1;32m-> 9843\u001b[0m     \u001b[39mreturn\u001b[39;00m merge(\n\u001b[0;32m   9844\u001b[0m         \u001b[39mself\u001b[39;49m,\n\u001b[0;32m   9845\u001b[0m         right,\n\u001b[0;32m   9846\u001b[0m         how\u001b[39m=\u001b[39;49mhow,\n\u001b[0;32m   9847\u001b[0m         on\u001b[39m=\u001b[39;49mon,\n\u001b[0;32m   9848\u001b[0m         left_on\u001b[39m=\u001b[39;49mleft_on,\n\u001b[0;32m   9849\u001b[0m         right_on\u001b[39m=\u001b[39;49mright_on,\n\u001b[0;32m   9850\u001b[0m         left_index\u001b[39m=\u001b[39;49mleft_index,\n\u001b[0;32m   9851\u001b[0m         right_index\u001b[39m=\u001b[39;49mright_index,\n\u001b[0;32m   9852\u001b[0m         sort\u001b[39m=\u001b[39;49msort,\n\u001b[0;32m   9853\u001b[0m         suffixes\u001b[39m=\u001b[39;49msuffixes,\n\u001b[0;32m   9854\u001b[0m         copy\u001b[39m=\u001b[39;49mcopy,\n\u001b[0;32m   9855\u001b[0m         indicator\u001b[39m=\u001b[39;49mindicator,\n\u001b[0;32m   9856\u001b[0m         validate\u001b[39m=\u001b[39;49mvalidate,\n\u001b[0;32m   9857\u001b[0m     )\n",
      "File \u001b[1;32mc:\\Users\\rajaf\\AppData\\Local\\Programs\\Python\\Python311\\Lib\\site-packages\\pandas\\core\\reshape\\merge.py:162\u001b[0m, in \u001b[0;36mmerge\u001b[1;34m(left, right, how, on, left_on, right_on, left_index, right_index, sort, suffixes, copy, indicator, validate)\u001b[0m\n\u001b[0;32m    131\u001b[0m \u001b[39m@Substitution\u001b[39m(\u001b[39m\"\u001b[39m\u001b[39m\\n\u001b[39;00m\u001b[39mleft : DataFrame or named Series\u001b[39m\u001b[39m\"\u001b[39m)\n\u001b[0;32m    132\u001b[0m \u001b[39m@Appender\u001b[39m(_merge_doc, indents\u001b[39m=\u001b[39m\u001b[39m0\u001b[39m)\n\u001b[0;32m    133\u001b[0m \u001b[39mdef\u001b[39;00m \u001b[39mmerge\u001b[39m(\n\u001b[1;32m   (...)\u001b[0m\n\u001b[0;32m    146\u001b[0m     validate: \u001b[39mstr\u001b[39m \u001b[39m|\u001b[39m \u001b[39mNone\u001b[39;00m \u001b[39m=\u001b[39m \u001b[39mNone\u001b[39;00m,\n\u001b[0;32m    147\u001b[0m ) \u001b[39m-\u001b[39m\u001b[39m>\u001b[39m DataFrame:\n\u001b[0;32m    148\u001b[0m     op \u001b[39m=\u001b[39m _MergeOperation(\n\u001b[0;32m    149\u001b[0m         left,\n\u001b[0;32m    150\u001b[0m         right,\n\u001b[1;32m   (...)\u001b[0m\n\u001b[0;32m    160\u001b[0m         validate\u001b[39m=\u001b[39mvalidate,\n\u001b[0;32m    161\u001b[0m     )\n\u001b[1;32m--> 162\u001b[0m     \u001b[39mreturn\u001b[39;00m op\u001b[39m.\u001b[39;49mget_result(copy\u001b[39m=\u001b[39;49mcopy)\n",
      "File \u001b[1;32mc:\\Users\\rajaf\\AppData\\Local\\Programs\\Python\\Python311\\Lib\\site-packages\\pandas\\core\\reshape\\merge.py:811\u001b[0m, in \u001b[0;36m_MergeOperation.get_result\u001b[1;34m(self, copy)\u001b[0m\n\u001b[0;32m    807\u001b[0m     \u001b[39mself\u001b[39m\u001b[39m.\u001b[39mleft, \u001b[39mself\u001b[39m\u001b[39m.\u001b[39mright \u001b[39m=\u001b[39m \u001b[39mself\u001b[39m\u001b[39m.\u001b[39m_indicator_pre_merge(\u001b[39mself\u001b[39m\u001b[39m.\u001b[39mleft, \u001b[39mself\u001b[39m\u001b[39m.\u001b[39mright)\n\u001b[0;32m    809\u001b[0m join_index, left_indexer, right_indexer \u001b[39m=\u001b[39m \u001b[39mself\u001b[39m\u001b[39m.\u001b[39m_get_join_info()\n\u001b[1;32m--> 811\u001b[0m result \u001b[39m=\u001b[39m \u001b[39mself\u001b[39;49m\u001b[39m.\u001b[39;49m_reindex_and_concat(\n\u001b[0;32m    812\u001b[0m     join_index, left_indexer, right_indexer, copy\u001b[39m=\u001b[39;49mcopy\n\u001b[0;32m    813\u001b[0m )\n\u001b[0;32m    814\u001b[0m result \u001b[39m=\u001b[39m result\u001b[39m.\u001b[39m__finalize__(\u001b[39mself\u001b[39m, method\u001b[39m=\u001b[39m\u001b[39mself\u001b[39m\u001b[39m.\u001b[39m_merge_type)\n\u001b[0;32m    816\u001b[0m \u001b[39mif\u001b[39;00m \u001b[39mself\u001b[39m\u001b[39m.\u001b[39mindicator:\n",
      "File \u001b[1;32mc:\\Users\\rajaf\\AppData\\Local\\Programs\\Python\\Python311\\Lib\\site-packages\\pandas\\core\\reshape\\merge.py:802\u001b[0m, in \u001b[0;36m_MergeOperation._reindex_and_concat\u001b[1;34m(self, join_index, left_indexer, right_indexer, copy)\u001b[0m\n\u001b[0;32m    800\u001b[0m left\u001b[39m.\u001b[39mcolumns \u001b[39m=\u001b[39m llabels\n\u001b[0;32m    801\u001b[0m right\u001b[39m.\u001b[39mcolumns \u001b[39m=\u001b[39m rlabels\n\u001b[1;32m--> 802\u001b[0m result \u001b[39m=\u001b[39m concat([left, right], axis\u001b[39m=\u001b[39;49m\u001b[39m1\u001b[39;49m, copy\u001b[39m=\u001b[39;49mcopy)\n\u001b[0;32m    803\u001b[0m \u001b[39mreturn\u001b[39;00m result\n",
      "File \u001b[1;32mc:\\Users\\rajaf\\AppData\\Local\\Programs\\Python\\Python311\\Lib\\site-packages\\pandas\\core\\reshape\\concat.py:385\u001b[0m, in \u001b[0;36mconcat\u001b[1;34m(objs, axis, join, ignore_index, keys, levels, names, verify_integrity, sort, copy)\u001b[0m\n\u001b[0;32m    370\u001b[0m     copy \u001b[39m=\u001b[39m \u001b[39mFalse\u001b[39;00m\n\u001b[0;32m    372\u001b[0m op \u001b[39m=\u001b[39m _Concatenator(\n\u001b[0;32m    373\u001b[0m     objs,\n\u001b[0;32m    374\u001b[0m     axis\u001b[39m=\u001b[39maxis,\n\u001b[1;32m   (...)\u001b[0m\n\u001b[0;32m    382\u001b[0m     sort\u001b[39m=\u001b[39msort,\n\u001b[0;32m    383\u001b[0m )\n\u001b[1;32m--> 385\u001b[0m \u001b[39mreturn\u001b[39;00m op\u001b[39m.\u001b[39;49mget_result()\n",
      "File \u001b[1;32mc:\\Users\\rajaf\\AppData\\Local\\Programs\\Python\\Python311\\Lib\\site-packages\\pandas\\core\\reshape\\concat.py:616\u001b[0m, in \u001b[0;36m_Concatenator.get_result\u001b[1;34m(self)\u001b[0m\n\u001b[0;32m    612\u001b[0m             indexers[ax] \u001b[39m=\u001b[39m obj_labels\u001b[39m.\u001b[39mget_indexer(new_labels)\n\u001b[0;32m    614\u001b[0m     mgrs_indexers\u001b[39m.\u001b[39mappend((obj\u001b[39m.\u001b[39m_mgr, indexers))\n\u001b[1;32m--> 616\u001b[0m new_data \u001b[39m=\u001b[39m concatenate_managers(\n\u001b[0;32m    617\u001b[0m     mgrs_indexers, \u001b[39mself\u001b[39;49m\u001b[39m.\u001b[39;49mnew_axes, concat_axis\u001b[39m=\u001b[39;49m\u001b[39mself\u001b[39;49m\u001b[39m.\u001b[39;49mbm_axis, copy\u001b[39m=\u001b[39;49m\u001b[39mself\u001b[39;49m\u001b[39m.\u001b[39;49mcopy\n\u001b[0;32m    618\u001b[0m )\n\u001b[0;32m    619\u001b[0m \u001b[39mif\u001b[39;00m \u001b[39mnot\u001b[39;00m \u001b[39mself\u001b[39m\u001b[39m.\u001b[39mcopy \u001b[39mand\u001b[39;00m \u001b[39mnot\u001b[39;00m using_copy_on_write():\n\u001b[0;32m    620\u001b[0m     new_data\u001b[39m.\u001b[39m_consolidate_inplace()\n",
      "File \u001b[1;32mc:\\Users\\rajaf\\AppData\\Local\\Programs\\Python\\Python311\\Lib\\site-packages\\pandas\\core\\internals\\concat.py:204\u001b[0m, in \u001b[0;36mconcatenate_managers\u001b[1;34m(mgrs_indexers, axes, concat_axis, copy)\u001b[0m\n\u001b[0;32m    197\u001b[0m \u001b[39m# Assertions disabled for performance\u001b[39;00m\n\u001b[0;32m    198\u001b[0m \u001b[39m# for tup in mgrs_indexers:\u001b[39;00m\n\u001b[0;32m    199\u001b[0m \u001b[39m#    # caller is responsible for ensuring this\u001b[39;00m\n\u001b[0;32m    200\u001b[0m \u001b[39m#    indexers = tup[1]\u001b[39;00m\n\u001b[0;32m    201\u001b[0m \u001b[39m#    assert concat_axis not in indexers\u001b[39;00m\n\u001b[0;32m    203\u001b[0m \u001b[39mif\u001b[39;00m concat_axis \u001b[39m==\u001b[39m \u001b[39m0\u001b[39m:\n\u001b[1;32m--> 204\u001b[0m     \u001b[39mreturn\u001b[39;00m _concat_managers_axis0(mgrs_indexers, axes, copy)\n\u001b[0;32m    206\u001b[0m mgrs_indexers \u001b[39m=\u001b[39m _maybe_reindex_columns_na_proxy(axes, mgrs_indexers)\n\u001b[0;32m    208\u001b[0m concat_plans \u001b[39m=\u001b[39m [\n\u001b[0;32m    209\u001b[0m     _get_mgr_concatenation_plan(mgr, indexers) \u001b[39mfor\u001b[39;00m mgr, indexers \u001b[39min\u001b[39;00m mgrs_indexers\n\u001b[0;32m    210\u001b[0m ]\n",
      "File \u001b[1;32mc:\\Users\\rajaf\\AppData\\Local\\Programs\\Python\\Python311\\Lib\\site-packages\\pandas\\core\\internals\\concat.py:279\u001b[0m, in \u001b[0;36m_concat_managers_axis0\u001b[1;34m(mgrs_indexers, axes, copy)\u001b[0m\n\u001b[0;32m    277\u001b[0m     nb \u001b[39m=\u001b[39m blk\u001b[39m.\u001b[39mcopy(deep\u001b[39m=\u001b[39m\u001b[39mFalse\u001b[39;00m)\n\u001b[0;32m    278\u001b[0m \u001b[39melif\u001b[39;00m copy:\n\u001b[1;32m--> 279\u001b[0m     nb \u001b[39m=\u001b[39m blk\u001b[39m.\u001b[39;49mcopy()\n\u001b[0;32m    280\u001b[0m \u001b[39melse\u001b[39;00m:\n\u001b[0;32m    281\u001b[0m     \u001b[39m# by slicing instead of copy(deep=False), we get a new array\u001b[39;00m\n\u001b[0;32m    282\u001b[0m     \u001b[39m#  object, see test_concat_copy\u001b[39;00m\n\u001b[0;32m    283\u001b[0m     nb \u001b[39m=\u001b[39m blk\u001b[39m.\u001b[39mgetitem_block(\u001b[39mslice\u001b[39m(\u001b[39mNone\u001b[39;00m))\n",
      "File \u001b[1;32mc:\\Users\\rajaf\\AppData\\Local\\Programs\\Python\\Python311\\Lib\\site-packages\\pandas\\core\\internals\\blocks.py:540\u001b[0m, in \u001b[0;36mBlock.copy\u001b[1;34m(self, deep)\u001b[0m\n\u001b[0;32m    538\u001b[0m refs: BlockValuesRefs \u001b[39m|\u001b[39m \u001b[39mNone\u001b[39;00m\n\u001b[0;32m    539\u001b[0m \u001b[39mif\u001b[39;00m deep:\n\u001b[1;32m--> 540\u001b[0m     values \u001b[39m=\u001b[39m values\u001b[39m.\u001b[39;49mcopy()\n\u001b[0;32m    541\u001b[0m     refs \u001b[39m=\u001b[39m \u001b[39mNone\u001b[39;00m\n\u001b[0;32m    542\u001b[0m \u001b[39melse\u001b[39;00m:\n",
      "File \u001b[1;32mc:\\Users\\rajaf\\AppData\\Local\\Programs\\Python\\Python311\\Lib\\site-packages\\pandas\\core\\arrays\\datetimelike.py:545\u001b[0m, in \u001b[0;36mDatetimeLikeArrayMixin.copy\u001b[1;34m(self, order)\u001b[0m\n\u001b[0;32m    543\u001b[0m \u001b[39mdef\u001b[39;00m \u001b[39mcopy\u001b[39m(\u001b[39mself\u001b[39m: DatetimeLikeArrayT, order: \u001b[39mstr\u001b[39m \u001b[39m=\u001b[39m \u001b[39m\"\u001b[39m\u001b[39mC\u001b[39m\u001b[39m\"\u001b[39m) \u001b[39m-\u001b[39m\u001b[39m>\u001b[39m DatetimeLikeArrayT:\n\u001b[0;32m    544\u001b[0m     \u001b[39m# error: Unexpected keyword argument \"order\" for \"copy\"\u001b[39;00m\n\u001b[1;32m--> 545\u001b[0m     new_obj \u001b[39m=\u001b[39m \u001b[39msuper\u001b[39;49m()\u001b[39m.\u001b[39;49mcopy(order\u001b[39m=\u001b[39;49morder)  \u001b[39m# type: ignore[call-arg]\u001b[39;00m\n\u001b[0;32m    546\u001b[0m     new_obj\u001b[39m.\u001b[39m_freq \u001b[39m=\u001b[39m \u001b[39mself\u001b[39m\u001b[39m.\u001b[39mfreq\n\u001b[0;32m    547\u001b[0m     \u001b[39mreturn\u001b[39;00m new_obj\n",
      "File \u001b[1;32mc:\\Users\\rajaf\\AppData\\Local\\Programs\\Python\\Python311\\Lib\\site-packages\\pandas\\_libs\\arrays.pyx:148\u001b[0m, in \u001b[0;36mpandas._libs.arrays.NDArrayBacked.copy\u001b[1;34m()\u001b[0m\n",
      "\u001b[1;31mMemoryError\u001b[0m: Unable to allocate 1.64 GiB for an array with shape (1, 219604213) and data type datetime64[ns]"
     ]
    }
   ],
   "source": [
    "\n",
    "\n",
    "for file in lista_file:\n",
    "    Appa = pd.read_csv(\n",
    "    \"Trento\\\\DataSet_APPA_TRENTO\\\\DataSet_APPA_(2013-2023)\\\\\"+file,\n",
    "    na_values=\"n.d.\",\n",
    "    )\n",
    "    \n",
    "    Appa[\"Data\"]=pd.to_datetime(Appa[\"Data\"])\n",
    "    Appa.sort_values(by=\"Data\", inplace=True)\n",
    "\n",
    "    newName=\"Ozone\"+file\n",
    "    Appa.rename(columns={\"Ozone\":newName},inplace=True)\n",
    "    Appa = Appa.set_index(\"Data\")\n",
    "    Appa = Appa[start_date:end_date]\n",
    "    Appa.reset_index(inplace = True)\n",
    "    #print(Appa)\n",
    "    #print(DF_Ozone)\n",
    "    DF_Ozone=DF_Ozone.reset_index().merge(Appa[[\"Data\",newName]],how=\"left\",on=\"Data\").set_index(\"Data\")\n",
    "    #Appa[(Appa[\"Data\"]<pd.Timestamp(2023,1,1)) & (Appa[\"Data\"]>pd.Timestamp(2020,1,1))]\n",
    "    #Appa= Appa.filter[start_date:end_date,:]\n",
    "    \n",
    "    #Appa=Appa[\"Ozone\"]\n",
    "    #Appa.reset_index()\n",
    "    #Appa_Ozone.insert(pos,file,Appa.Ozone)\n",
    "    #pos=pos+1\n",
    "    #DF_Ozone[file]=Appa\n",
    "    #print(Appa_Ozone)\n",
    "\n",
    "DF_Ozone\n",
    "\n",
    "\n"
   ]
  },
  {
   "cell_type": "code",
   "execution_count": null,
   "metadata": {},
   "outputs": [
    {
     "name": "stdout",
     "output_type": "stream",
     "text": [
      "       APPA_2_Parco S. Chiara.csv  OzoneAPPA_6_Rovereto.csv  \\\n",
      "0                             4.0                       4.0   \n",
      "1                             4.0                       4.0   \n",
      "2                             4.0                       3.0   \n",
      "3                             4.0                       5.0   \n",
      "4                             3.0                       3.0   \n",
      "...                           ...                       ...   \n",
      "26296                         4.0                       7.0   \n",
      "26297                         4.0                       6.0   \n",
      "26298                         4.0                       4.0   \n",
      "26299                         4.0                       6.0   \n",
      "26300                         4.0                       3.0   \n",
      "\n",
      "       OzoneAPPA_8_Borgo Valsugana.csv  OzoneAPPA_9_Riva del Garda.csv  \\\n",
      "0                                  4.0                             6.0   \n",
      "1                                  3.0                             6.0   \n",
      "2                                  3.0                             6.0   \n",
      "3                                  3.0                            13.0   \n",
      "4                                  3.0                            11.0   \n",
      "...                                ...                             ...   \n",
      "26296                              2.0                             NaN   \n",
      "26297                              3.0                             NaN   \n",
      "26298                              2.0                             NaN   \n",
      "26299                              3.0                             NaN   \n",
      "26300                              4.0                             NaN   \n",
      "\n",
      "       OzoneAPPA_15_Monte Gaza.csv  OzoneAPPA_22_Piana Rotaliana.csv  \n",
      "0                             87.0                               7.0  \n",
      "1                             86.0                              10.0  \n",
      "2                             86.0                              12.0  \n",
      "3                             86.0                              19.0  \n",
      "4                             87.0                              14.0  \n",
      "...                            ...                               ...  \n",
      "26296                         62.0                               3.0  \n",
      "26297                         61.0                               3.0  \n",
      "26298                         59.0                               2.0  \n",
      "26299                         61.0                               2.0  \n",
      "26300                         60.0                               2.0  \n",
      "\n",
      "[26301 rows x 6 columns]\n"
     ]
    }
   ],
   "source": [
    "DF_Ozone= DF_Ozone.reset_index().drop([\"Data\"],axis=1)\n",
    "print(DF_Ozone)\n"
   ]
  },
  {
   "cell_type": "code",
   "execution_count": null,
   "metadata": {},
   "outputs": [
    {
     "name": "stdout",
     "output_type": "stream",
     "text": [
      "       APPA_2_Parco S. Chiara.csv  OzoneAPPA_6_Rovereto.csv  \\\n",
      "0                             4.0                       4.0   \n",
      "1                             4.0                       4.0   \n",
      "2                             4.0                       3.0   \n",
      "3                             4.0                       5.0   \n",
      "4                             3.0                       3.0   \n",
      "...                           ...                       ...   \n",
      "26296                         4.0                       7.0   \n",
      "26297                         4.0                       6.0   \n",
      "26298                         4.0                       4.0   \n",
      "26299                         4.0                       6.0   \n",
      "26300                         4.0                       3.0   \n",
      "\n",
      "       OzoneAPPA_8_Borgo Valsugana.csv  OzoneAPPA_9_Riva del Garda.csv  \\\n",
      "0                                  4.0                             6.0   \n",
      "1                                  3.0                             6.0   \n",
      "2                                  3.0                             6.0   \n",
      "3                                  3.0                            13.0   \n",
      "4                                  3.0                            11.0   \n",
      "...                                ...                             ...   \n",
      "26296                              2.0                             NaN   \n",
      "26297                              3.0                             NaN   \n",
      "26298                              2.0                             NaN   \n",
      "26299                              3.0                             NaN   \n",
      "26300                              4.0                             NaN   \n",
      "\n",
      "       OzoneAPPA_15_Monte Gaza.csv  OzoneAPPA_22_Piana Rotaliana.csv  \n",
      "0                             87.0                               7.0  \n",
      "1                             86.0                              10.0  \n",
      "2                             86.0                              12.0  \n",
      "3                             86.0                              19.0  \n",
      "4                             87.0                              14.0  \n",
      "...                            ...                               ...  \n",
      "26296                         62.0                               3.0  \n",
      "26297                         61.0                               3.0  \n",
      "26298                         59.0                               2.0  \n",
      "26299                         61.0                               2.0  \n",
      "26300                         60.0                               2.0  \n",
      "\n",
      "[26301 rows x 6 columns]\n"
     ]
    },
    {
     "ename": "KeyError",
     "evalue": "\"The following 'value_vars' are not present in the DataFrame: ['APPA_15_Monte Gaza.csv', 'APPA_22_Piana Rotaliana.csv', 'APPA_6_Rovereto.csv', 'APPA_8_Borgo Valsugana.csv', 'APPA_9_Riva del Garda.csv']\"",
     "output_type": "error",
     "traceback": [
      "\u001b[1;31m---------------------------------------------------------------------------\u001b[0m",
      "\u001b[1;31mKeyError\u001b[0m                                  Traceback (most recent call last)",
      "Cell \u001b[1;32mIn[9], line 4\u001b[0m\n\u001b[0;32m      1\u001b[0m \u001b[39m##ANOVA START #\u001b[39;00m\n\u001b[0;32m      2\u001b[0m \u001b[39mprint\u001b[39m(DF_Ozone)\n\u001b[1;32m----> 4\u001b[0m df_melt\u001b[39m=\u001b[39mpd\u001b[39m.\u001b[39;49mmelt(\n\u001b[0;32m      5\u001b[0m     DF_Ozone\u001b[39m.\u001b[39;49mreset_index(), \n\u001b[0;32m      6\u001b[0m     id_vars\u001b[39m=\u001b[39;49m[\u001b[39m\"\u001b[39;49m\u001b[39mindex\u001b[39;49m\u001b[39m\"\u001b[39;49m], \n\u001b[0;32m      7\u001b[0m     value_vars\u001b[39m=\u001b[39;49m[\u001b[39m\"\u001b[39;49m\u001b[39mAPPA_2_Parco S. Chiara.csv\u001b[39;49m\u001b[39m\"\u001b[39;49m,\n\u001b[0;32m      8\u001b[0m     \u001b[39m\"\u001b[39;49m\u001b[39mAPPA_6_Rovereto.csv\u001b[39;49m\u001b[39m\"\u001b[39;49m,\n\u001b[0;32m      9\u001b[0m     \u001b[39m\"\u001b[39;49m\u001b[39mAPPA_8_Borgo Valsugana.csv\u001b[39;49m\u001b[39m\"\u001b[39;49m,\n\u001b[0;32m     10\u001b[0m     \u001b[39m\"\u001b[39;49m\u001b[39mAPPA_9_Riva del Garda.csv\u001b[39;49m\u001b[39m\"\u001b[39;49m,\n\u001b[0;32m     11\u001b[0m     \u001b[39m\"\u001b[39;49m\u001b[39mAPPA_15_Monte Gaza.csv\u001b[39;49m\u001b[39m\"\u001b[39;49m,\n\u001b[0;32m     12\u001b[0m     \u001b[39m\"\u001b[39;49m\u001b[39mAPPA_22_Piana Rotaliana.csv\u001b[39;49m\u001b[39m\"\u001b[39;49m,]\n\u001b[0;32m     13\u001b[0m )\n\u001b[0;32m     15\u001b[0m df_melt\u001b[39m.\u001b[39mcolumns\u001b[39m=\u001b[39m[\u001b[39m\"\u001b[39m\u001b[39mindex\u001b[39m\u001b[39m\"\u001b[39m,\u001b[39m\"\u001b[39m\u001b[39mtreatments\u001b[39m\u001b[39m\"\u001b[39m,\u001b[39m\"\u001b[39m\u001b[39mvalue\u001b[39m\u001b[39m\"\u001b[39m]\n\u001b[0;32m     17\u001b[0m ax\u001b[39m=\u001b[39msns\u001b[39m.\u001b[39mboxplot(x\u001b[39m=\u001b[39m\u001b[39m\"\u001b[39m\u001b[39mtreatments\u001b[39m\u001b[39m\"\u001b[39m,y\u001b[39m=\u001b[39m\u001b[39m\"\u001b[39m\u001b[39mvalue\u001b[39m\u001b[39m\"\u001b[39m, data\u001b[39m=\u001b[39mdf_melt, color\u001b[39m=\u001b[39m\u001b[39m\"\u001b[39m\u001b[39m#99c2a2\u001b[39m\u001b[39m\"\u001b[39m)\n",
      "File \u001b[1;32mc:\\Users\\rajaf\\AppData\\Local\\Programs\\Python\\Python311\\Lib\\site-packages\\pandas\\core\\reshape\\melt.py:92\u001b[0m, in \u001b[0;36mmelt\u001b[1;34m(frame, id_vars, value_vars, var_name, value_name, col_level, ignore_index)\u001b[0m\n\u001b[0;32m     90\u001b[0m     missing \u001b[39m=\u001b[39m Index(com\u001b[39m.\u001b[39mflatten(value_vars))\u001b[39m.\u001b[39mdifference(cols)\n\u001b[0;32m     91\u001b[0m     \u001b[39mif\u001b[39;00m \u001b[39mnot\u001b[39;00m missing\u001b[39m.\u001b[39mempty:\n\u001b[1;32m---> 92\u001b[0m         \u001b[39mraise\u001b[39;00m \u001b[39mKeyError\u001b[39;00m(\n\u001b[0;32m     93\u001b[0m             \u001b[39m\"\u001b[39m\u001b[39mThe following \u001b[39m\u001b[39m'\u001b[39m\u001b[39mvalue_vars\u001b[39m\u001b[39m'\u001b[39m\u001b[39m are not present in \u001b[39m\u001b[39m\"\u001b[39m\n\u001b[0;32m     94\u001b[0m             \u001b[39mf\u001b[39m\u001b[39m\"\u001b[39m\u001b[39mthe DataFrame: \u001b[39m\u001b[39m{\u001b[39;00m\u001b[39mlist\u001b[39m(missing)\u001b[39m}\u001b[39;00m\u001b[39m\"\u001b[39m\n\u001b[0;32m     95\u001b[0m         )\n\u001b[0;32m     96\u001b[0m \u001b[39mif\u001b[39;00m col_level \u001b[39mis\u001b[39;00m \u001b[39mnot\u001b[39;00m \u001b[39mNone\u001b[39;00m:\n\u001b[0;32m     97\u001b[0m     idx \u001b[39m=\u001b[39m frame\u001b[39m.\u001b[39mcolumns\u001b[39m.\u001b[39mget_level_values(col_level)\u001b[39m.\u001b[39mget_indexer(\n\u001b[0;32m     98\u001b[0m         id_vars \u001b[39m+\u001b[39m value_vars\n\u001b[0;32m     99\u001b[0m     )\n",
      "\u001b[1;31mKeyError\u001b[0m: \"The following 'value_vars' are not present in the DataFrame: ['APPA_15_Monte Gaza.csv', 'APPA_22_Piana Rotaliana.csv', 'APPA_6_Rovereto.csv', 'APPA_8_Borgo Valsugana.csv', 'APPA_9_Riva del Garda.csv']\""
     ]
    }
   ],
   "source": [
    "##ANOVA START #\n",
    "print(DF_Ozone)\n",
    "\n",
    "df_melt=pd.melt(\n",
    "    DF_Ozone.reset_index(), \n",
    "    id_vars=[\"index\"], \n",
    "    value_vars=[\"APPA_2_Parco S. Chiara.csv\",\n",
    "    \"APPA_6_Rovereto.csv\",\n",
    "    \"APPA_8_Borgo Valsugana.csv\",\n",
    "    \"APPA_9_Riva del Garda.csv\",\n",
    "    \"APPA_15_Monte Gaza.csv\",\n",
    "    \"APPA_22_Piana Rotaliana.csv\",]\n",
    ")\n",
    "\n",
    "df_melt.columns=[\"index\",\"treatments\",\"value\"]\n",
    "\n",
    "ax=sns.boxplot(x=\"treatments\",y=\"value\", data=df_melt, color=\"#99c2a2\")\n",
    "ax=sns.boxplot(x=\"treatments\",y=\"value\", data=df_melt, color=\"#7d0013\")\n",
    "\n",
    "plt.show()\n"
   ]
  },
  {
   "cell_type": "code",
   "execution_count": null,
   "metadata": {},
   "outputs": [],
   "source": []
  }
 ],
 "metadata": {
  "kernelspec": {
   "display_name": "Python 3",
   "language": "python",
   "name": "python3"
  },
  "language_info": {
   "codemirror_mode": {
    "name": "ipython",
    "version": 3
   },
   "file_extension": ".py",
   "mimetype": "text/x-python",
   "name": "python",
   "nbconvert_exporter": "python",
   "pygments_lexer": "ipython3",
   "version": "3.11.4"
  },
  "orig_nbformat": 4
 },
 "nbformat": 4,
 "nbformat_minor": 2
}
