{
 "cells": [
  {
   "cell_type": "code",
   "execution_count": null,
   "metadata": {},
   "outputs": [],
   "source": [
    "import pandas as pd\n",
    "import numpy as np\n",
    "from sklearn.linear_model import LinearRegression\n",
    "from sklearn.model_selection import train_test_split\n",
    "import matplotlib.pyplot as plt \n",
    "from itertools import combinations\n",
    "from scipy.stats import linregress\n",
    "\n",
    "\n",
    "#python -m pip install numpy scikit-learn statsmodels"
   ]
  },
  {
   "cell_type": "code",
   "execution_count": null,
   "metadata": {},
   "outputs": [],
   "source": [
    "lista_file = [\n",
    "    \"APPA_2_Parco S. Chiara.csv\",\n",
    "    \"APPA_4_Via Bolzano.csv\",\n",
    "    \"APPA_6_Rovereto.csv\",\n",
    "    \"APPA_8_Borgo Valsugana.csv\",\n",
    "    \"APPA_9_Riva del Garda.csv\",\n",
    "    \"APPA_15_Monte Gaza.csv\",\n",
    "    \"APPA_22_Piana Rotaliana.csv\",\n",
    "    \"APPA_23_A22 (Avio).csv\",\n",
    "]\n",
    "\n"
   ]
  },
  {
   "cell_type": "code",
   "execution_count": null,
   "metadata": {},
   "outputs": [],
   "source": [
    "path = \"..\\\\DataSet_APPA_TRENTO\\\\DataSet_APPA_(2013-2023)\\\\\"\n",
    "#start_date=\"01/01/2013\"         #\"dd/mm/yy\"\n",
    "#end_date=\"01/01/2023\"           #\"dd/mm/yy\"\n"
   ]
  },
  {
   "cell_type": "code",
   "execution_count": null,
   "metadata": {},
   "outputs": [],
   "source": [
    "file=pd.DataFrame().to_csv(\"Regression_Table.csv\")\n",
    "regress_table=pd.DataFrame(columns=[\"Name: \",\"slope\",\"intercept\",\"rvalue\",\"pvalue\",\"stderr\",\"intercept_stderr\",\"Equation\"])\n",
    "\n",
    "regress_table.to_csv(\"Regression_Table.csv\",mode=\"a\")\n",
    "\n",
    "station_list=[]\n",
    "coppie=[]\n",
    "for file in lista_file:\n",
    "    Appa=pd.read_csv(\n",
    "        path+file,\n",
    "        na_values=\"n.d.\"\n",
    "    )\n",
    "    print(\"\\n\\nDATASET: \"+file)\n",
    "    \n",
    "    gas_list=[Appa.columns.values]\n",
    "    Appa[\"Data\"]=pd.to_datetime(Appa[\"Data\"])\n",
    "    Appa.sort_values(by=\"Data\", inplace=True)\n",
    "    Appa=Appa.set_index(\"Data\",drop=True)\n",
    "    Appa = Appa.resample(\"M\").mean()\n",
    "    #Appa=Appa[start_date:end_date]\n",
    "    \n",
    "    station_list.clear()\n",
    "    coppie.clear()\n",
    "    for station in gas_list:\n",
    "        station_list.append(station[1:])\n",
    "        coppie.clear()\n",
    "    \n",
    "    for gas in station_list: \n",
    "        coppie=list(combinations(gas, 2))\n",
    "        #print(coppie)\n",
    "        \n",
    "    for gas_1 , gas_2 in coppie:\n",
    "\n",
    "        #print(gas_1+\" + \"+gas_2)\n",
    "        LR =LinearRegression()\n",
    "        try:\n",
    "            LR.fit(Appa[gas_1].values.reshape(-1,1),Appa[gas_2].values)\n",
    "            prediction = LR.predict(Appa[gas_1].values.reshape(-1,1))\n",
    "            plt.plot(Appa[gas_1], prediction, label=\"Linear Regression\", color=\"b\")\n",
    "            plt.scatter(Appa[gas_1],Appa[gas_2], label=\"Actual Data\", color =\"g\", alpha=.7)\n",
    "            plt.legend()\n",
    "            plt.title(\"\\n\\n\"+file+\": \"+gas_1+\",\"+gas_2+\"\\n\\n\")\n",
    "            plt.xlabel(gas_1)\n",
    "            plt.ylabel(gas_2)\n",
    "            plt.show()\n",
    "            regress_info=linregress(Appa[gas_1], Appa[gas_2])\n",
    "            eq=\"y = \"+str(round(regress_info.slope,2))+\"x + \"+str(round(regress_info.intercept,2))\n",
    "            data=[file+\": \"+gas_1+\",\"+gas_2,regress_info.slope,regress_info.intercept,regress_info.rvalue,regress_info.pvalue,regress_info.stderr,regress_info.intercept_stderr,eq]\n",
    "            regress_table.loc[len(regress_table.index)] =data\n",
    "            regress_table.to_csv(\"Regression_Table.csv\",mode=\"a\",header=None)\n",
    "            #regress_table.to_csv(mode=\"a\")\n",
    "            #print(regress_table)\n",
    "        except:\n",
    "            print(\"An exception occurred\")\n",
    "        \n",
    "       \n"
   ]
  },
  {
   "cell_type": "code",
   "execution_count": null,
   "metadata": {},
   "outputs": [],
   "source": [
    "print(regress_table)"
   ]
  },
  {
   "cell_type": "code",
   "execution_count": null,
   "metadata": {},
   "outputs": [],
   "source": [
    "#data=[regress_info.slope,regress_info.intercept,regress_info.rvalue,regress_info.pvalue,regress_info.stderr,regress_info.intercept_stderr]\n",
    "#info=[\"slope\",\"intercept\",\"rvalue\",\"pvalue\",\"stderr\",\"intercept_stderr\"]\n",
    "\n",
    "data=[regress_info.slope,regress_info.intercept,regress_info.rvalue]\n",
    "info=[\"slope\",\"intercept\",\"rvalue\"]\n",
    "\n",
    "regress_table=pd.DataFrame(\n",
    "    columns=[\"Name\",\"slope\",\"intercept\",\"rvalue\"]\n",
    ")\n",
    "regress_table\n"
   ]
  },
  {
   "cell_type": "code",
   "execution_count": null,
   "metadata": {},
   "outputs": [],
   "source": [
    "[gas_1, gas_2]"
   ]
  },
  {
   "cell_type": "code",
   "execution_count": null,
   "metadata": {},
   "outputs": [],
   "source": [
    "Appa[[gas_1, gas_2]]"
   ]
  },
  {
   "cell_type": "code",
   "execution_count": null,
   "metadata": {},
   "outputs": [],
   "source": []
  },
  {
   "cell_type": "code",
   "execution_count": null,
   "metadata": {},
   "outputs": [],
   "source": [
    "Appa=pd.read_csv(\n",
    "    \"..\\\\DataSet_APPA_TRENTO\\\\DataSet_APPA_(2013-2023)\\\\APPA_2_Parco S. Chiara.csv\",\n",
    "    na_values=\"n.d.\"\n",
    ")\n",
    "\n",
    "Appa[\"Data\"] = pd.to_datetime(Appa[\"Data\"])  # Convert \"Data\" column to DateTimeIndex\n",
    "\n",
    "Appa.sort_values(by=\"Data\", inplace=True)\n",
    "Appa=Appa.set_index(\"Data\",drop=True)\n",
    "Appa = Appa.resample(\"M\").mean()\n",
    "\n",
    "LR =LinearRegression()\n",
    "LR.fit(Appa[\"PM10\"].values.reshape(-1,1),Appa[\"Ozone\"].values)\n",
    "prediction = LR.predict(Appa[\"PM10\"].values.reshape(-1,1))\n",
    "plt.plot(Appa[\"PM10\"], prediction, label= \"Linear Regression\" , color=\"b\")\n",
    "plt.scatter(Appa[\"PM10\"],Appa[\"Ozone\"], label=\"Actual Data\", color =\"g\", alpha=.7)\n",
    "plt.legend()\n",
    "plt.xlabel(\"PM10\")\n",
    "plt.ylabel(\"Ozone\")\n",
    "plt.show()\n",
    "\n"
   ]
  },
  {
   "cell_type": "code",
   "execution_count": null,
   "metadata": {},
   "outputs": [],
   "source": []
  }
 ],
 "metadata": {
  "kernelspec": {
   "display_name": "Python 3",
   "language": "python",
   "name": "python3"
  },
  "language_info": {
   "codemirror_mode": {
    "name": "ipython",
    "version": 3
   },
   "file_extension": ".py",
   "mimetype": "text/x-python",
   "name": "python",
   "nbconvert_exporter": "python",
   "pygments_lexer": "ipython3",
   "version": "3.11.4"
  },
  "orig_nbformat": 4
 },
 "nbformat": 4,
 "nbformat_minor": 2
}
